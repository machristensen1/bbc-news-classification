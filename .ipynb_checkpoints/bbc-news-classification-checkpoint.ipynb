{
 "cells": [
  {
   "cell_type": "markdown",
   "id": "43dc5054",
   "metadata": {},
   "source": [
    "# BBC News Classification Kaggle Mini-Project\n"
   ]
  },
  {
   "cell_type": "code",
   "execution_count": 1,
   "id": "e1feab19",
   "metadata": {},
   "outputs": [
    {
     "name": "stderr",
     "output_type": "stream",
     "text": [
      "[nltk_data] Downloading package punkt to C:\\Users\\Michael\n",
      "[nltk_data]     Christensen\\AppData\\Roaming\\nltk_data...\n",
      "[nltk_data]   Package punkt is already up-to-date!\n",
      "[nltk_data] Downloading package wordnet to C:\\Users\\Michael\n",
      "[nltk_data]     Christensen\\AppData\\Roaming\\nltk_data...\n",
      "[nltk_data]   Package wordnet is already up-to-date!\n",
      "[nltk_data] Downloading package stopwords to C:\\Users\\Michael\n",
      "[nltk_data]     Christensen\\AppData\\Roaming\\nltk_data...\n",
      "[nltk_data]   Package stopwords is already up-to-date!\n"
     ]
    }
   ],
   "source": [
    "import pandas as pd\n",
    "import numpy as np\n",
    "\n",
    "\n",
    "#Plots\n",
    "import seaborn as sns\n",
    "import matplotlib.pyplot as plt\n",
    "\n",
    "#String Processing\n",
    "import string\n",
    "import re\n",
    "\n",
    "from collections import Counter\n",
    "\n",
    "#NLP tools\n",
    "import nltk\n",
    "\n",
    "from nltk import word_tokenize\n",
    "nltk.download('punkt')\n",
    "\n",
    "from nltk.stem.wordnet import WordNetLemmatizer\n",
    "nltk.download('wordnet')\n",
    "\n",
    "from nltk.corpus import stopwords\n",
    "nltk.download('stopwords')\n",
    "\n",
    "from sklearn.feature_extraction import text\n",
    "from sklearn.feature_extraction.text import TfidfVectorizer\n",
    "\n",
    "from sklearn.decomposition import NMF\n",
    "from sklearn.metrics import accuracy_score, confusion_matrix\n",
    "\n",
    "from sklearn.ensemble import RandomForestClassifier\n",
    "\n",
    "from sklearn.model_selection import cross_val_score\n",
    "from sklearn.model_selection import train_test_split\n",
    "\n",
    "import itertools"
   ]
  },
  {
   "cell_type": "markdown",
   "id": "2ff3087d",
   "metadata": {},
   "source": [
    "# Table of Contents\n",
    "1. [Introduction](#introduction)\n",
    "2. [Exploratory Data Analaysis](#paragraph1)\n",
    "    1. [Data Inspection](#subparagraph1.1)\n",
    "    2. [Data Cleaning](#subparagraph1.2)\n",
    "    3. [Data Visualization](#subparagraph1.3)\n",
    "3. [Building and Training Model with NMF](#paragraph2)\n",
    "4. [Comparison with RF](#paragraph3)\n",
    "5. [References](#references)"
   ]
  },
  {
   "cell_type": "markdown",
   "id": "d6dc9c55",
   "metadata": {},
   "source": [
    "## 1. Introduction <a name=\"introduction\"></a>\n",
    "\n",
    "Our goal is to use matrix factorization to predict the category of various articles taken from BBC news. We will be performing some basic EDA and visualization, training unsupervised models using NMF, and comparing model performance with supervised methods.\n",
    "\n",
    "https://www.kaggle.com/c/learn-ai-bbc/overview\n",
    "<blockquote>\n",
    "Text documents are one of the richest sources of data for businesses.\n",
    "\n",
    "We’ll use a public dataset from the BBC comprised of 2225 articles, each labeled under one of 5 categories: business, entertainment, politics, sport or tech.\n",
    "\n",
    "The dataset is broken into 1490 records for training and 735 for testing. The goal will be to build a system that can accurately classify previously unseen news articles into the right category.\n",
    "\n",
    "The competition is evaluated using Accuracy as a metric.\n",
    "\n",
    "Following blog has good information on how to look at the problem. https://cloud.google.com/blog/products/gcp/problem-solving-with-ml-automatic-document-classification\n",
    "</blockquote>"
   ]
  },
  {
   "cell_type": "markdown",
   "id": "727372e2",
   "metadata": {},
   "source": [
    "## 2. Exploratory Data Analysis <a name=\"paragraph1\"></a>"
   ]
  },
  {
   "cell_type": "code",
   "execution_count": 2,
   "id": "6894b2e8",
   "metadata": {},
   "outputs": [],
   "source": [
    "df_train = pd.read_csv('BBC News Train.csv')\n",
    "df_test = pd.read_csv('BBC News Test.csv')"
   ]
  },
  {
   "cell_type": "markdown",
   "id": "9b62d1db",
   "metadata": {},
   "source": [
    "### 2.A. Data Inspection <a name=\"subparagraph1.1\"></a>\n",
    "We'll begin by taking a brief look at the data - it looks like the data has already had some processing, with the case fully adjusted to lowercase. Our training data has 1490 articles with 5 differenct categories and a unique ArticleID."
   ]
  },
  {
   "cell_type": "code",
   "execution_count": 3,
   "id": "54f8438b",
   "metadata": {},
   "outputs": [
    {
     "data": {
      "text/html": [
       "<div>\n",
       "<style scoped>\n",
       "    .dataframe tbody tr th:only-of-type {\n",
       "        vertical-align: middle;\n",
       "    }\n",
       "\n",
       "    .dataframe tbody tr th {\n",
       "        vertical-align: top;\n",
       "    }\n",
       "\n",
       "    .dataframe thead th {\n",
       "        text-align: right;\n",
       "    }\n",
       "</style>\n",
       "<table border=\"1\" class=\"dataframe\">\n",
       "  <thead>\n",
       "    <tr style=\"text-align: right;\">\n",
       "      <th></th>\n",
       "      <th>ArticleId</th>\n",
       "      <th>Text</th>\n",
       "      <th>Category</th>\n",
       "    </tr>\n",
       "  </thead>\n",
       "  <tbody>\n",
       "    <tr>\n",
       "      <th>0</th>\n",
       "      <td>1833</td>\n",
       "      <td>worldcom ex-boss launches defence lawyers defe...</td>\n",
       "      <td>business</td>\n",
       "    </tr>\n",
       "    <tr>\n",
       "      <th>1</th>\n",
       "      <td>154</td>\n",
       "      <td>german business confidence slides german busin...</td>\n",
       "      <td>business</td>\n",
       "    </tr>\n",
       "    <tr>\n",
       "      <th>2</th>\n",
       "      <td>1101</td>\n",
       "      <td>bbc poll indicates economic gloom citizens in ...</td>\n",
       "      <td>business</td>\n",
       "    </tr>\n",
       "    <tr>\n",
       "      <th>3</th>\n",
       "      <td>1976</td>\n",
       "      <td>lifestyle  governs mobile choice  faster  bett...</td>\n",
       "      <td>tech</td>\n",
       "    </tr>\n",
       "    <tr>\n",
       "      <th>4</th>\n",
       "      <td>917</td>\n",
       "      <td>enron bosses in $168m payout eighteen former e...</td>\n",
       "      <td>business</td>\n",
       "    </tr>\n",
       "  </tbody>\n",
       "</table>\n",
       "</div>"
      ],
      "text/plain": [
       "   ArticleId                                               Text  Category\n",
       "0       1833  worldcom ex-boss launches defence lawyers defe...  business\n",
       "1        154  german business confidence slides german busin...  business\n",
       "2       1101  bbc poll indicates economic gloom citizens in ...  business\n",
       "3       1976  lifestyle  governs mobile choice  faster  bett...      tech\n",
       "4        917  enron bosses in $168m payout eighteen former e...  business"
      ]
     },
     "execution_count": 3,
     "metadata": {},
     "output_type": "execute_result"
    }
   ],
   "source": [
    "df_train.head()"
   ]
  },
  {
   "cell_type": "code",
   "execution_count": 4,
   "id": "68251542",
   "metadata": {},
   "outputs": [
    {
     "name": "stdout",
     "output_type": "stream",
     "text": [
      "<class 'pandas.core.frame.DataFrame'>\n",
      "RangeIndex: 1490 entries, 0 to 1489\n",
      "Data columns (total 3 columns):\n",
      " #   Column     Non-Null Count  Dtype \n",
      "---  ------     --------------  ----- \n",
      " 0   ArticleId  1490 non-null   int64 \n",
      " 1   Text       1490 non-null   object\n",
      " 2   Category   1490 non-null   object\n",
      "dtypes: int64(1), object(2)\n",
      "memory usage: 35.1+ KB\n"
     ]
    }
   ],
   "source": [
    "df_train.info()"
   ]
  },
  {
   "cell_type": "markdown",
   "id": "b1f68bce",
   "metadata": {},
   "source": [
    "### 2.B. Data Cleaning and Transformation<a name=\"subparagraph2.2\"></a>\n",
    "\n",
    "We'll be taking the following measures to inspect and clean our data.\n",
    "\n",
    "* Check for duplicates and omit them. Checking for duplicates makes sure we don't accidentally overrepresent articles of a particular category, which can negatively impact TF-IDF by inflating word count.\n",
    "* Remove punctuation. This helps standardize the text, though we may lose some information in some cases (e.g. hyphenated words such as \"content-based\" shortened to \"contentbased\" may affect our model).\n",
    "* Tokenize text for future transformation. This allows us to break down long articles into pieces to better visualize and analyze.\n",
    "* Omit stopwords - these words are basically \"filler\" that don't always provide useful information (e.g. \"the\", \"a\", \"you\"). Removing this can improve model performance.\n",
    "* Lemmatization. This helps standardize the text even further by grouping inflected forms of a word, such as plural words (boys --> boy) or past tense verbs (ran --> run)."
   ]
  },
  {
   "cell_type": "code",
   "execution_count": 5,
   "id": "9284b339",
   "metadata": {},
   "outputs": [
    {
     "name": "stdout",
     "output_type": "stream",
     "text": [
      "Number of duplicates: 50\n"
     ]
    }
   ],
   "source": [
    "#Check for duplicates\n",
    "duplicates = df_train['Text'].duplicated()\n",
    "print(\"Number of duplicates:\", duplicates.sum())\n",
    "\n",
    "#Drop duplicates\n",
    "df_train = df_train.drop_duplicates(subset = ['Text'], keep = 'first')"
   ]
  },
  {
   "cell_type": "code",
   "execution_count": 6,
   "id": "329eab44",
   "metadata": {},
   "outputs": [
    {
     "data": {
      "text/html": [
       "<div>\n",
       "<style scoped>\n",
       "    .dataframe tbody tr th:only-of-type {\n",
       "        vertical-align: middle;\n",
       "    }\n",
       "\n",
       "    .dataframe tbody tr th {\n",
       "        vertical-align: top;\n",
       "    }\n",
       "\n",
       "    .dataframe thead th {\n",
       "        text-align: right;\n",
       "    }\n",
       "</style>\n",
       "<table border=\"1\" class=\"dataframe\">\n",
       "  <thead>\n",
       "    <tr style=\"text-align: right;\">\n",
       "      <th></th>\n",
       "      <th>ArticleId</th>\n",
       "      <th>Text</th>\n",
       "      <th>Category</th>\n",
       "    </tr>\n",
       "  </thead>\n",
       "  <tbody>\n",
       "    <tr>\n",
       "      <th>0</th>\n",
       "      <td>1833</td>\n",
       "      <td>worldcom ex bos launch defence lawyer defendin...</td>\n",
       "      <td>business</td>\n",
       "    </tr>\n",
       "    <tr>\n",
       "      <th>1</th>\n",
       "      <td>154</td>\n",
       "      <td>german business confidence slide german busine...</td>\n",
       "      <td>business</td>\n",
       "    </tr>\n",
       "    <tr>\n",
       "      <th>2</th>\n",
       "      <td>1101</td>\n",
       "      <td>bbc poll indicates economic gloom citizen majo...</td>\n",
       "      <td>business</td>\n",
       "    </tr>\n",
       "    <tr>\n",
       "      <th>3</th>\n",
       "      <td>1976</td>\n",
       "      <td>lifestyle governs mobile choice faster better ...</td>\n",
       "      <td>tech</td>\n",
       "    </tr>\n",
       "    <tr>\n",
       "      <th>4</th>\n",
       "      <td>917</td>\n",
       "      <td>enron boss 168m payout eighteen former enron d...</td>\n",
       "      <td>business</td>\n",
       "    </tr>\n",
       "  </tbody>\n",
       "</table>\n",
       "</div>"
      ],
      "text/plain": [
       "   ArticleId                                               Text  Category\n",
       "0       1833  worldcom ex bos launch defence lawyer defendin...  business\n",
       "1        154  german business confidence slide german busine...  business\n",
       "2       1101  bbc poll indicates economic gloom citizen majo...  business\n",
       "3       1976  lifestyle governs mobile choice faster better ...      tech\n",
       "4        917  enron boss 168m payout eighteen former enron d...  business"
      ]
     },
     "execution_count": 6,
     "metadata": {},
     "output_type": "execute_result"
    }
   ],
   "source": [
    "def clean(text):\n",
    "    text = \"\".join([char if char not in string.punctuation else ' ' for char in text]) # Remove Punctuation\n",
    "    text = word_tokenize(text) #Tokenize text\n",
    "    stopword = set(stopwords.words('english')) # Omit Stopwords\n",
    "    text = [i for i in text if i not in stopword]\n",
    "    lmtz = WordNetLemmatizer()\n",
    "    text = \" \".join([lmtz.lemmatize(word) for word in text])\n",
    "    return text\n",
    "    \n",
    "df_train['Text'] = df_train['Text'].apply(lambda text: clean(text))\n",
    "df_test['Text'] = df_train['Text'].apply(lambda text: clean(text))\n",
    "\n",
    "df_train.head()"
   ]
  },
  {
   "cell_type": "markdown",
   "id": "d1aa2ff1",
   "metadata": {},
   "source": [
    "### 2.C. Data Visualization<a name=\"subparagraph2.3\"></a>\n",
    "We'll make some general observations about the data, including word count, unique word count, character length, stop word count, and a correlation plot between these features.\n",
    "\n",
    "Taking a look at the category histogram below, we see that sports and business are slightly overrepresented compared to the other categories."
   ]
  },
  {
   "cell_type": "code",
   "execution_count": 7,
   "id": "94a4320e",
   "metadata": {},
   "outputs": [
    {
     "data": {
      "image/png": "[encoded data removed]",
      "text/plain": [
       "<Figure size 640x480 with 1 Axes>"
      ]
     },
     "metadata": {},
     "output_type": "display_data"
    }
   ],
   "source": [
    "# Category Count\n",
    "df_train['Category'].hist()\n",
    "cat = ['business', 'tech', 'politics', 'sport', 'entertainment']"
   ]
  },
  {
   "cell_type": "markdown",
   "id": "82a87fc4",
   "metadata": {},
   "source": [
    "#### Word Count\n",
    "We notice that most articles have a word count of less than 500."
   ]
  },
  {
   "cell_type": "code",
   "execution_count": 8,
   "id": "b95a8dec",
   "metadata": {
    "scrolled": true
   },
   "outputs": [
    {
     "data": {
      "text/plain": [
       "<Axes: >"
      ]
     },
     "execution_count": 8,
     "metadata": {},
     "output_type": "execute_result"
    },
    {
     "data": {
      "image/png": "[encoded data removed]",
      "text/plain": [
       "<Figure size 640x480 with 1 Axes>"
      ]
     },
     "metadata": {},
     "output_type": "display_data"
    }
   ],
   "source": [
    "#Total overall wordcount\n",
    "df_train['word_count'] = df_train['Text'].str.split().map(lambda x: len(x))\n",
    "df_train['word_count'].hist()"
   ]
  },
  {
   "cell_type": "markdown",
   "id": "a5ff5d3d",
   "metadata": {},
   "source": [
    "#### Word Count by Category\n",
    "Splitting the word count up by category, we note that the majority of sports, entertainment, and businesss articles are fairly short, while most politics and tech articles tend to skew on the long side."
   ]
  },
  {
   "cell_type": "code",
   "execution_count": 9,
   "id": "9119c546",
   "metadata": {},
   "outputs": [
    {
     "data": {
      "image/png": "[encoded data removed]",
      "text/plain": [
       "<Figure size 640x480 with 1 Axes>"
      ]
     },
     "metadata": {},
     "output_type": "display_data"
    }
   ],
   "source": [
    "ax = sns.histplot(data = df_train, x = \"word_count\", hue = \"Category\", multiple = \"fill\")\n",
    "sns.move_legend(ax, \"center right\")"
   ]
  },
  {
   "cell_type": "markdown",
   "id": "d2f51b33",
   "metadata": {},
   "source": [
    "#### Unique Word Count\n",
    "\n",
    "We notice that the pattern holds for unique word counts as well, with most articles having a right skew with respect to word count, and with the majority of sports, entertainment, and business articles being fairly short and politics and tech skewing on the long side."
   ]
  },
  {
   "cell_type": "code",
   "execution_count": 10,
   "id": "225f161d",
   "metadata": {},
   "outputs": [
    {
     "data": {
      "text/plain": [
       "<Axes: >"
      ]
     },
     "execution_count": 10,
     "metadata": {},
     "output_type": "execute_result"
    },
    {
     "data": {
      "image/png": "[encoded data removed]",
      "text/plain": [
       "<Figure size 640x480 with 1 Axes>"
      ]
     },
     "metadata": {},
     "output_type": "display_data"
    }
   ],
   "source": [
    "df_train['unique_word_count'] =df_train['Text'].apply(lambda x: len(set(str(x).split())))\n",
    "df_train['unique_word_count'].hist()"
   ]
  },
  {
   "cell_type": "code",
   "execution_count": 11,
   "id": "c347f4ff",
   "metadata": {},
   "outputs": [
    {
     "data": {
      "image/png": "[encoded data removed]",
      "text/plain": [
       "<Figure size 640x480 with 1 Axes>"
      ]
     },
     "metadata": {},
     "output_type": "display_data"
    }
   ],
   "source": [
    "ax = sns.histplot(data = df_train, x = \"unique_word_count\", hue = \"Category\", multiple = \"fill\")\n",
    "sns.move_legend(ax, \"center right\")"
   ]
  },
  {
   "cell_type": "markdown",
   "id": "9b83f41f",
   "metadata": {},
   "source": [
    "#### Character Count"
   ]
  },
  {
   "cell_type": "code",
   "execution_count": 12,
   "id": "d4d4d7df",
   "metadata": {},
   "outputs": [
    {
     "data": {
      "text/plain": [
       "<Axes: >"
      ]
     },
     "execution_count": 12,
     "metadata": {},
     "output_type": "execute_result"
    },
    {
     "data": {
      "image/png": "[encoded data removed]",
      "text/plain": [
       "<Figure size 640x480 with 1 Axes>"
      ]
     },
     "metadata": {},
     "output_type": "display_data"
    }
   ],
   "source": [
    "df_train['char_count'] =df_train['Text'].apply(len)\n",
    "df_train['char_count'].hist()"
   ]
  },
  {
   "cell_type": "code",
   "execution_count": 13,
   "id": "8c949997",
   "metadata": {},
   "outputs": [
    {
     "data": {
      "image/png": "[encoded data removed]",
      "text/plain": [
       "<Figure size 640x480 with 1 Axes>"
      ]
     },
     "metadata": {},
     "output_type": "display_data"
    }
   ],
   "source": [
    "ax = sns.histplot(data = df_train, x = \"char_count\", hue = \"Category\", multiple = \"fill\")\n",
    "sns.move_legend(ax, \"center right\")"
   ]
  },
  {
   "cell_type": "markdown",
   "id": "09e1149a",
   "metadata": {},
   "source": [
    "#### Stopwords Count"
   ]
  },
  {
   "cell_type": "code",
   "execution_count": 14,
   "id": "01522b24",
   "metadata": {},
   "outputs": [
    {
     "data": {
      "text/plain": [
       "<Axes: >"
      ]
     },
     "execution_count": 14,
     "metadata": {},
     "output_type": "execute_result"
    },
    {
     "data": {
      "image/png": "[encoded data removed]",
      "text/plain": [
       "<Figure size 640x480 with 1 Axes>"
      ]
     },
     "metadata": {},
     "output_type": "display_data"
    }
   ],
   "source": [
    "all_stopwords = stopwords.words('english')\n",
    "df_train['stop_words']=df_train['Text'].apply(lambda x: len([words for words in str(x).lower().split() if words in all_stopwords]))\n",
    "df_train['stop_words'].hist()"
   ]
  },
  {
   "cell_type": "code",
   "execution_count": 15,
   "id": "0834a4c6",
   "metadata": {},
   "outputs": [
    {
     "data": {
      "image/png": "[encoded data removed]",
      "text/plain": [
       "<Figure size 640x480 with 1 Axes>"
      ]
     },
     "metadata": {},
     "output_type": "display_data"
    }
   ],
   "source": [
    "ax = sns.histplot(data = df_train, x = \"stop_words\", hue = \"Category\", multiple = \"fill\")\n",
    "sns.move_legend(ax, \"center right\")\n"
   ]
  },
  {
   "cell_type": "markdown",
   "id": "ef854e4e",
   "metadata": {},
   "source": [
    "#### Correlation Heatmap\n",
    "We can take this time to factorize our categories so we can relabel everything in the future and also to generate a correlation heatmap between our factors. Although we visually identified some differences between the categories, a correlation heatmap shows a fairly weak relationship between length metrics and article category."
   ]
  },
  {
   "cell_type": "code",
   "execution_count": 16,
   "id": "7c86c3a6",
   "metadata": {},
   "outputs": [
    {
     "data": {
      "text/html": [
       "<div>\n",
       "<style scoped>\n",
       "    .dataframe tbody tr th:only-of-type {\n",
       "        vertical-align: middle;\n",
       "    }\n",
       "\n",
       "    .dataframe tbody tr th {\n",
       "        vertical-align: top;\n",
       "    }\n",
       "\n",
       "    .dataframe thead th {\n",
       "        text-align: right;\n",
       "    }\n",
       "</style>\n",
       "<table border=\"1\" class=\"dataframe\">\n",
       "  <thead>\n",
       "    <tr style=\"text-align: right;\">\n",
       "      <th></th>\n",
       "      <th>ArticleId</th>\n",
       "      <th>Text</th>\n",
       "      <th>Category</th>\n",
       "      <th>word_count</th>\n",
       "      <th>unique_word_count</th>\n",
       "      <th>char_count</th>\n",
       "      <th>stop_words</th>\n",
       "      <th>Factor</th>\n",
       "    </tr>\n",
       "  </thead>\n",
       "  <tbody>\n",
       "    <tr>\n",
       "      <th>0</th>\n",
       "      <td>1833</td>\n",
       "      <td>worldcom ex bos launch defence lawyer defendin...</td>\n",
       "      <td>business</td>\n",
       "      <td>195</td>\n",
       "      <td>138</td>\n",
       "      <td>1393</td>\n",
       "      <td>3</td>\n",
       "      <td>0</td>\n",
       "    </tr>\n",
       "    <tr>\n",
       "      <th>1</th>\n",
       "      <td>154</td>\n",
       "      <td>german business confidence slide german busine...</td>\n",
       "      <td>business</td>\n",
       "      <td>209</td>\n",
       "      <td>156</td>\n",
       "      <td>1487</td>\n",
       "      <td>0</td>\n",
       "      <td>0</td>\n",
       "    </tr>\n",
       "    <tr>\n",
       "      <th>2</th>\n",
       "      <td>1101</td>\n",
       "      <td>bbc poll indicates economic gloom citizen majo...</td>\n",
       "      <td>business</td>\n",
       "      <td>295</td>\n",
       "      <td>193</td>\n",
       "      <td>2091</td>\n",
       "      <td>0</td>\n",
       "      <td>0</td>\n",
       "    </tr>\n",
       "    <tr>\n",
       "      <th>3</th>\n",
       "      <td>1976</td>\n",
       "      <td>lifestyle governs mobile choice faster better ...</td>\n",
       "      <td>tech</td>\n",
       "      <td>354</td>\n",
       "      <td>208</td>\n",
       "      <td>2341</td>\n",
       "      <td>0</td>\n",
       "      <td>1</td>\n",
       "    </tr>\n",
       "    <tr>\n",
       "      <th>4</th>\n",
       "      <td>917</td>\n",
       "      <td>enron boss 168m payout eighteen former enron d...</td>\n",
       "      <td>business</td>\n",
       "      <td>212</td>\n",
       "      <td>168</td>\n",
       "      <td>1555</td>\n",
       "      <td>0</td>\n",
       "      <td>0</td>\n",
       "    </tr>\n",
       "  </tbody>\n",
       "</table>\n",
       "</div>"
      ],
      "text/plain": [
       "   ArticleId                                               Text  Category  \\\n",
       "0       1833  worldcom ex bos launch defence lawyer defendin...  business   \n",
       "1        154  german business confidence slide german busine...  business   \n",
       "2       1101  bbc poll indicates economic gloom citizen majo...  business   \n",
       "3       1976  lifestyle governs mobile choice faster better ...      tech   \n",
       "4        917  enron boss 168m payout eighteen former enron d...  business   \n",
       "\n",
       "   word_count  unique_word_count  char_count  stop_words  Factor  \n",
       "0         195                138        1393           3       0  \n",
       "1         209                156        1487           0       0  \n",
       "2         295                193        2091           0       0  \n",
       "3         354                208        2341           0       1  \n",
       "4         212                168        1555           0       0  "
      ]
     },
     "execution_count": 16,
     "metadata": {},
     "output_type": "execute_result"
    }
   ],
   "source": [
    "df_train[\"Factor\"] = pd.factorize(df_train[\"Category\"])[0]\n",
    "df_train.head()"
   ]
  },
  {
   "cell_type": "code",
   "execution_count": 17,
   "id": "9bea9958",
   "metadata": {},
   "outputs": [
    {
     "name": "stdout",
     "output_type": "stream",
     "text": [
      "[(0.0, 'business'), (1.0, 'tech'), (2.0, 'politics'), (3.0, 'sport'), (4.0, 'entertainment')]\n"
     ]
    },
    {
     "data": {
      "text/html": [
       "<div>\n",
       "<style scoped>\n",
       "    .dataframe tbody tr th:only-of-type {\n",
       "        vertical-align: middle;\n",
       "    }\n",
       "\n",
       "    .dataframe tbody tr th {\n",
       "        vertical-align: top;\n",
       "    }\n",
       "\n",
       "    .dataframe thead th {\n",
       "        text-align: right;\n",
       "    }\n",
       "</style>\n",
       "<table border=\"1\" class=\"dataframe\">\n",
       "  <thead>\n",
       "    <tr style=\"text-align: right;\">\n",
       "      <th></th>\n",
       "      <th>ArticleId</th>\n",
       "      <th>Text</th>\n",
       "    </tr>\n",
       "  </thead>\n",
       "  <tbody>\n",
       "    <tr>\n",
       "      <th>0</th>\n",
       "      <td>1018</td>\n",
       "      <td>worldcom ex bos launch defence lawyer defendin...</td>\n",
       "    </tr>\n",
       "    <tr>\n",
       "      <th>1</th>\n",
       "      <td>1319</td>\n",
       "      <td>german business confidence slide german busine...</td>\n",
       "    </tr>\n",
       "    <tr>\n",
       "      <th>2</th>\n",
       "      <td>1138</td>\n",
       "      <td>bbc poll indicates economic gloom citizen majo...</td>\n",
       "    </tr>\n",
       "    <tr>\n",
       "      <th>3</th>\n",
       "      <td>459</td>\n",
       "      <td>lifestyle governs mobile choice faster better ...</td>\n",
       "    </tr>\n",
       "    <tr>\n",
       "      <th>4</th>\n",
       "      <td>1020</td>\n",
       "      <td>enron bos 168m payout eighteen former enron di...</td>\n",
       "    </tr>\n",
       "  </tbody>\n",
       "</table>\n",
       "</div>"
      ],
      "text/plain": [
       "   ArticleId                                               Text\n",
       "0       1018  worldcom ex bos launch defence lawyer defendin...\n",
       "1       1319  german business confidence slide german busine...\n",
       "2       1138  bbc poll indicates economic gloom citizen majo...\n",
       "3        459  lifestyle governs mobile choice faster better ...\n",
       "4       1020  enron bos 168m payout eighteen former enron di..."
      ]
     },
     "execution_count": 17,
     "metadata": {},
     "output_type": "execute_result"
    }
   ],
   "source": [
    "cats = (list(df_train[[\"Category\", \"Factor\"]].groupby(\"Category\").mean().itertuples(name=None)))\n",
    "cats = sorted([elt[::-1] for elt in cats])\n",
    "print(cats)\n",
    "num, cat = list(zip(*cats))\n",
    "\n",
    "df_test.head()"
   ]
  },
  {
   "cell_type": "code",
   "execution_count": 18,
   "id": "9478adf6",
   "metadata": {},
   "outputs": [
    {
     "name": "stderr",
     "output_type": "stream",
     "text": [
      "C:\\Users\\Michael Christensen\\AppData\\Local\\Temp\\ipykernel_5644\\3009844100.py:1: FutureWarning: The default value of numeric_only in DataFrame.corr is deprecated. In a future version, it will default to False. Select only valid columns or specify the value of numeric_only to silence this warning.\n",
      "  corr = df_train.corr()\n"
     ]
    },
    {
     "data": {
      "text/plain": [
       "<Axes: >"
      ]
     },
     "execution_count": 18,
     "metadata": {},
     "output_type": "execute_result"
    },
    {
     "data": {
      "image/png": "[encoded data removed]",
      "text/plain": [
       "<Figure size 640x480 with 2 Axes>"
      ]
     },
     "metadata": {},
     "output_type": "display_data"
    }
   ],
   "source": [
    "corr = df_train.corr()\n",
    "sns.heatmap(corr, annot = True)"
   ]
  },
  {
   "cell_type": "markdown",
   "id": "664cf379",
   "metadata": {},
   "source": [
    "## 3. Building and Training a Model with NMF <a name=\"paragraph2\"></a>\n",
    "\n",
    "1. Vectorize our data in order to get it into matrix form.\n",
    "2. Apply NMF to our vectorized data and recovering topics.\n",
    "3. Measure how well the NMF model performs on the test data.\n",
    "4. Change hyperparameters to adjust model performance."
   ]
  },
  {
   "cell_type": "code",
   "execution_count": 19,
   "id": "5b5f6680",
   "metadata": {},
   "outputs": [],
   "source": [
    "#Vectorize and remove stopwords with sklearn\n",
    "vectorizer = TfidfVectorizer(ngram_range = (1,2), \n",
    "                             sublinear_tf = True, #word frequencies are generally exponential\n",
    "                             min_df = 1, #hyperparameter to check later\n",
    "                             norm = 'l2',\n",
    "                             encoding = 'latin-1',\n",
    "                             stop_words = 'english')\n",
    "\n",
    "corpus = df_train['Text']\n",
    "\n",
    "X = vectorizer.fit_transform(corpus)\n",
    "vocab = np.array(vectorizer.get_feature_names_out())"
   ]
  },
  {
   "cell_type": "markdown",
   "id": "c3ee51c8",
   "metadata": {},
   "source": [
    "###  When training the unsupervised model for matrix factorization, should we include texts (word features) from the test dataset or not as the input matrix? Why or why not?\n",
    "\n",
    "Notice that when we chose the corpus to fit our vectorizer to, we included both the train set and the test set. This is because we are assuming we that the data is unlabeled, and our algorithm is attempting to attach one to it."
   ]
  },
  {
   "cell_type": "markdown",
   "id": "e8f66105",
   "metadata": {},
   "source": [
    "We can inspect the feature matrix for the bigrams with the highest TF-IDF score."
   ]
  },
  {
   "cell_type": "code",
   "execution_count": 20,
   "id": "76da1eec",
   "metadata": {
    "scrolled": true
   },
   "outputs": [
    {
     "data": {
      "text/html": [
       "<div>\n",
       "<style scoped>\n",
       "    .dataframe tbody tr th:only-of-type {\n",
       "        vertical-align: middle;\n",
       "    }\n",
       "\n",
       "    .dataframe tbody tr th {\n",
       "        vertical-align: top;\n",
       "    }\n",
       "\n",
       "    .dataframe thead th {\n",
       "        text-align: right;\n",
       "    }\n",
       "</style>\n",
       "<table border=\"1\" class=\"dataframe\">\n",
       "  <thead>\n",
       "    <tr style=\"text-align: right;\">\n",
       "      <th></th>\n",
       "      <th>TF-IDF</th>\n",
       "    </tr>\n",
       "  </thead>\n",
       "  <tbody>\n",
       "    <tr>\n",
       "      <th>worldcom</th>\n",
       "      <td>0.152983</td>\n",
       "    </tr>\n",
       "    <tr>\n",
       "      <th>mr ebbers</th>\n",
       "      <td>0.141770</td>\n",
       "    </tr>\n",
       "    <tr>\n",
       "      <th>ebbers</th>\n",
       "      <td>0.139722</td>\n",
       "    </tr>\n",
       "    <tr>\n",
       "      <th>accounting</th>\n",
       "      <td>0.129115</td>\n",
       "    </tr>\n",
       "    <tr>\n",
       "      <th>cooper</th>\n",
       "      <td>0.115782</td>\n",
       "    </tr>\n",
       "    <tr>\n",
       "      <th>worldcom ex</th>\n",
       "      <td>0.107581</td>\n",
       "    </tr>\n",
       "    <tr>\n",
       "      <th>cooper said</th>\n",
       "      <td>0.101826</td>\n",
       "    </tr>\n",
       "    <tr>\n",
       "      <th>worldcom accounting</th>\n",
       "      <td>0.101826</td>\n",
       "    </tr>\n",
       "    <tr>\n",
       "      <th>andersen</th>\n",
       "      <td>0.101826</td>\n",
       "    </tr>\n",
       "    <tr>\n",
       "      <th>meeting mr</th>\n",
       "      <td>0.094576</td>\n",
       "    </tr>\n",
       "  </tbody>\n",
       "</table>\n",
       "</div>"
      ],
      "text/plain": [
       "                       TF-IDF\n",
       "worldcom             0.152983\n",
       "mr ebbers            0.141770\n",
       "ebbers               0.139722\n",
       "accounting           0.129115\n",
       "cooper               0.115782\n",
       "worldcom ex          0.107581\n",
       "cooper said          0.101826\n",
       "worldcom accounting  0.101826\n",
       "andersen             0.101826\n",
       "meeting mr           0.094576"
      ]
     },
     "execution_count": 20,
     "metadata": {},
     "output_type": "execute_result"
    }
   ],
   "source": [
    "feature_matrix = pd.DataFrame(X[0].T.todense(), \n",
    "                              index = vocab, \n",
    "                              columns = [\"TF-IDF\"])\n",
    "\n",
    "feature_matrix = feature_matrix.sort_values(\"TF-IDF\", ascending = False)\n",
    "\n",
    "feature_matrix.head(10)"
   ]
  },
  {
   "cell_type": "markdown",
   "id": "08eb2c49",
   "metadata": {},
   "source": [
    "### Applying NMF to Vectorized data\n",
    "\n",
    "Our goal is to categorize new articles into one of 5 categories. Since NMF has unnamed clusters, we need to figure out which permutation of label names works for our data. We've included a helper function to test the permutatations and then apply an accuracy score to the new label."
   ]
  },
  {
   "cell_type": "code",
   "execution_count": 21,
   "id": "ac105a07",
   "metadata": {},
   "outputs": [
    {
     "name": "stdout",
     "output_type": "stream",
     "text": [
      "[2 2 2 ... 2 4 4]\n"
     ]
    }
   ],
   "source": [
    "nmf = NMF(n_components = 5, \n",
    "          init = 'nndsvda',\n",
    "          random_state = 0)\n",
    "W = nmf.fit_transform(X)\n",
    "H = nmf.components_\n",
    "\n",
    "model_labels = np.argmax(W, axis = 1) #unlabeled topics\n",
    "print(model_labels)"
   ]
  },
  {
   "cell_type": "code",
   "execution_count": 22,
   "id": "52473def",
   "metadata": {},
   "outputs": [],
   "source": [
    "import itertools\n",
    "\n",
    "#helper function to rearrange model list\n",
    "def remap_list(labels, yp):\n",
    "    label_names = list(set(yp))\n",
    "    label_map = {label_names[i]:labels[i] for i in range(len(labels))}\n",
    "    #print(label_map)\n",
    "    return [label_map[k] for k in yp]\n",
    "\n",
    "def label_permute_compare(ytdf,yp,n=5):\n",
    "    \"\"\"\n",
    "    ytdf: labels dataframe object\n",
    "    yp: clustering label prediction output\n",
    "    Returns permuted label order and accuracy. \n",
    "    Example output: (3, 4, 1, 2, 0), 0.74 \n",
    "    \"\"\"\n",
    "# your code here\n",
    "    #convert ground truth labels to numbers\n",
    "    label_names = list(set(yp))\n",
    "    \n",
    "    #get list of possible labels from predictor\n",
    "    assert list(set(yp)) == list(set(ytdf)) #check that the label sets are the same\n",
    "    assert len(ytdf) == len(yp)\n",
    "    \n",
    "    #permute list of labels\n",
    "    label_permute = list(itertools.permutations(label_names))\n",
    "    acc = 0.0\n",
    "    res = []\n",
    "    \n",
    "    #score each permutation \n",
    "    for labels in label_permute:\n",
    "        #remap label through dictionary based on permuted labels\n",
    "        ypl = remap_list(labels, yp) #new permuted list via dictionary\n",
    "        acc_i = round(accuracy_score(ytdf, ypl),3) #scoring new prediction\n",
    "        if acc_i > acc:\n",
    "            res = labels\n",
    "            acc = acc_i\n",
    "    \n",
    "    return acc, res"
   ]
  },
  {
   "cell_type": "code",
   "execution_count": 23,
   "id": "270705cf",
   "metadata": {},
   "outputs": [
    {
     "name": "stdout",
     "output_type": "stream",
     "text": [
      "(2, 3, 0, 4, 1) 0.924\n"
     ]
    }
   ],
   "source": [
    "labels = list(df_train['Factor'])\n",
    "acc, labelorder = label_permute_compare(labels, model_labels)\n",
    "\n",
    "print(labelorder, acc)"
   ]
  },
  {
   "cell_type": "markdown",
   "id": "a4ff2c80",
   "metadata": {},
   "source": [
    "From our helper function, we have the best label order as (2,3,0,4,1) corresponding to business, tech, politics, sport, and entertainment in that order with an accuracy of 92.4%."
   ]
  },
  {
   "cell_type": "code",
   "execution_count": 24,
   "id": "273e01ca",
   "metadata": {},
   "outputs": [
    {
     "name": "stdout",
     "output_type": "stream",
     "text": [
      "[[325   8   2   0   0]\n",
      " [  3 226   0   3   2]\n",
      " [ 23   5 232   6   0]\n",
      " [  1   0   0 339   2]\n",
      " [ 10  32   2  10 209]]\n"
     ]
    }
   ],
   "source": [
    "cm = confusion_matrix(labels, remap_list(labelorder, model_labels))\n",
    "print(cm)"
   ]
  },
  {
   "cell_type": "markdown",
   "id": "fc282211",
   "metadata": {},
   "source": [
    "From our confusion matrix, we can see our model tends falsely classify a lot of articles as entertainment, particularly as tech.\n",
    "\n",
    "#### Hyperparameter Tuning\n",
    "\n",
    "We're going to do some simple hyperparameter tuning on both the vectorizer and NMF matrix and select the best performing model as our test submission. Rather than do a GridSearch, we are going to iterate through a small subset of reasonable parameters and pick the best one based on accuracy."
   ]
  },
  {
   "cell_type": "code",
   "execution_count": 25,
   "id": "6bb5321a",
   "metadata": {},
   "outputs": [],
   "source": [
    "#### Hyperparameter Tuning\n",
    "\n",
    "sublinear = [True, False]\n",
    "ngrams = [(1,1), (1,2)]\n",
    "nrm = ['l1', 'l2']\n",
    "\n",
    "vparams = list(itertools.product(sublinear, ngrams, nrm))\n",
    "\n",
    "solver = ['cd', 'mu']\n",
    "beta_loss = ['frobenius', 'kullback-leibler'] #if solver = mu\n",
    "\n",
    "nmfparams = list(itertools.product(solver, beta_loss))\n",
    "\n",
    "acc_list = []\n",
    "labellist = []\n",
    "cm_arr = []\n",
    "params = []\n",
    "\n",
    "for sb, ng, nm in vparams:\n",
    "    vectorizer_hp = TfidfVectorizer(ngram_range = ng, \n",
    "                                      sublinear_tf = sb, \n",
    "                                      min_df = 1, \n",
    "                                      norm = nm,\n",
    "                                      encoding = 'latin-1',\n",
    "                                      stop_words = 'english')\n",
    "    X_new = vectorizer_hp.fit_transform(corpus)\n",
    "    for sol, bl in nmfparams:\n",
    "        if sol == 'mu':\n",
    "            nmf_hp = NMF(n_components = 5,\n",
    "                         init = 'nndsvda',\n",
    "                         random_state = 0,\n",
    "                         solver = sol,\n",
    "                         beta_loss = bl)\n",
    "        else:\n",
    "            nmf_hp = NMF(n_components = 5,\n",
    "                         init = 'nndsvda',\n",
    "                         random_state = 0,\n",
    "                         solver = sol)\n",
    "        W_new = nmf_hp.fit_transform(X_new)\n",
    "        \n",
    "        hp_labels = list(np.argmax(W_new, axis = 1))\n",
    "        acc_hp, labelorder_hp = label_permute_compare(labels, hp_labels)\n",
    "        \n",
    "        acc_list.append(acc_hp)\n",
    "        labellist.append(labelorder_hp)\n",
    "        \n",
    "        hp_ypred = remap_list(labelorder_hp, hp_labels)\n",
    "        cm_arr.append(confusion_matrix(labels, hp_ypred))\n",
    "        params.append([sb,ng,nm,sol,bl])"
   ]
  },
  {
   "cell_type": "code",
   "execution_count": 26,
   "id": "6b267009",
   "metadata": {
    "scrolled": true
   },
   "outputs": [
    {
     "name": "stdout",
     "output_type": "stream",
     "text": [
      "  acc  params                                           list\n",
      "-----  -----------------------------------------------  ---------------\n",
      "0.96   [True, (1, 1), 'l1', 'mu', 'kullback-leibler']   (0, 3, 2, 4, 1)\n",
      "0.956  [True, (1, 1), 'l1', 'mu', 'frobenius']          (0, 3, 2, 4, 1)\n",
      "0.953  [True, (1, 1), 'l2', 'cd', 'kullback-leibler']   (1, 3, 2, 4, 0)\n",
      "0.953  [True, (1, 1), 'l2', 'cd', 'frobenius']          (1, 3, 2, 4, 0)\n",
      "0.949  [True, (1, 1), 'l2', 'mu', 'frobenius']          (1, 3, 2, 4, 0)\n",
      "0.948  [True, (1, 1), 'l1', 'cd', 'kullback-leibler']   (0, 3, 2, 4, 1)\n",
      "0.948  [True, (1, 1), 'l1', 'cd', 'frobenius']          (0, 3, 2, 4, 1)\n",
      "0.942  [True, (1, 2), 'l2', 'mu', 'frobenius']          (2, 3, 0, 4, 1)\n",
      "0.924  [True, (1, 2), 'l2', 'cd', 'kullback-leibler']   (2, 3, 0, 4, 1)\n",
      "0.924  [True, (1, 2), 'l2', 'cd', 'frobenius']          (2, 3, 0, 4, 1)\n",
      "0.924  [False, (1, 1), 'l1', 'mu', 'kullback-leibler']  (3, 2, 0, 4, 1)\n",
      "0.919  [False, (1, 2), 'l1', 'mu', 'frobenius']         (3, 2, 4, 0, 1)\n",
      "0.919  [False, (1, 2), 'l1', 'cd', 'kullback-leibler']  (3, 2, 4, 0, 1)\n",
      "0.919  [False, (1, 2), 'l1', 'cd', 'frobenius']         (3, 2, 4, 0, 1)\n",
      "0.917  [False, (1, 1), 'l1', 'cd', 'kullback-leibler']  (3, 2, 0, 4, 1)\n",
      "0.917  [False, (1, 1), 'l1', 'cd', 'frobenius']         (3, 2, 0, 4, 1)\n",
      "0.912  [False, (1, 1), 'l1', 'mu', 'frobenius']         (3, 2, 0, 4, 1)\n",
      "0.907  [False, (1, 1), 'l2', 'mu', 'kullback-leibler']  (1, 2, 4, 3, 0)\n",
      "0.899  [False, (1, 2), 'l2', 'mu', 'frobenius']         (1, 2, 4, 3, 0)\n",
      "0.898  [False, (1, 2), 'l2', 'cd', 'kullback-leibler']  (1, 2, 4, 3, 0)\n",
      "0.898  [False, (1, 2), 'l2', 'cd', 'frobenius']         (1, 2, 4, 3, 0)\n",
      "0.897  [False, (1, 1), 'l2', 'cd', 'kullback-leibler']  (1, 2, 4, 3, 0)\n",
      "0.897  [False, (1, 1), 'l2', 'cd', 'frobenius']         (1, 2, 4, 3, 0)\n",
      "0.895  [False, (1, 1), 'l2', 'mu', 'frobenius']         (1, 2, 4, 3, 0)\n",
      "0.892  [True, (1, 1), 'l2', 'mu', 'kullback-leibler']   (1, 3, 2, 4, 0)\n",
      "0.868  [True, (1, 2), 'l2', 'mu', 'kullback-leibler']   (2, 3, 0, 4, 1)\n",
      "0.859  [True, (1, 2), 'l1', 'mu', 'kullback-leibler']   (1, 3, 2, 0, 4)\n",
      "0.858  [False, (1, 2), 'l2', 'mu', 'kullback-leibler']  (1, 2, 4, 3, 0)\n",
      "0.813  [False, (1, 2), 'l1', 'mu', 'kullback-leibler']  (3, 2, 4, 0, 1)\n",
      "0.793  [True, (1, 2), 'l1', 'cd', 'kullback-leibler']   (0, 3, 2, 1, 4)\n",
      "0.793  [True, (1, 2), 'l1', 'cd', 'frobenius']          (0, 3, 2, 1, 4)\n",
      "0.765  [True, (1, 2), 'l1', 'mu', 'frobenius']          (0, 3, 2, 1, 4)\n"
     ]
    }
   ],
   "source": [
    "from tabulate import tabulate\n",
    "print(tabulate(sorted(list(zip(acc_list,params,labellist)),reverse = True), headers = [\"acc\", \"params\", \"list\"]))"
   ]
  },
  {
   "cell_type": "markdown",
   "id": "fe9507c2",
   "metadata": {},
   "source": [
    "The best performing model had sublinear scaling, used unigrams, l1 loss, used a multiplicative update solver, and used kullback-leibler as the beta loss function."
   ]
  },
  {
   "cell_type": "code",
   "execution_count": 27,
   "id": "fcc0fd01",
   "metadata": {},
   "outputs": [],
   "source": [
    "accmax, parammax, labelmax, cmmax = max(zip(acc_list, params, labellist, cm_arr))"
   ]
  },
  {
   "cell_type": "code",
   "execution_count": 28,
   "id": "7774ae9e",
   "metadata": {},
   "outputs": [],
   "source": [
    "vectorizer_test = TfidfVectorizer(ngram_range = (1,1), \n",
    "                                  sublinear_tf = True, \n",
    "                                  min_df = 1, \n",
    "                                  norm = 'l1',\n",
    "                                  encoding = 'latin-1',\n",
    "                                  stop_words = 'english')\n",
    "\n",
    "X_test = vectorizer_test.fit_transform(df_test['Text'].values.astype('U'))\n",
    "\n",
    "nmf_test = NMF(n_components = 5,\n",
    "            random_state = 0,\n",
    "            solver = 'mu',\n",
    "            beta_loss = \"kullback-leibler\")\n",
    "W_test = nmf_test.fit_transform(X_test)\n",
    "label_test = list(np.argmax(W_test, axis = 1))"
   ]
  },
  {
   "cell_type": "code",
   "execution_count": 29,
   "id": "96a2f992",
   "metadata": {},
   "outputs": [
    {
     "name": "stdout",
     "output_type": "stream",
     "text": [
      "    ArticleId       Category\n",
      "0        1018  entertainment\n",
      "1        1319  entertainment\n",
      "2        1138  entertainment\n",
      "3         459          sport\n",
      "4        1020  entertainment\n",
      "5          51           tech\n",
      "6        2025       politics\n",
      "7        1479          sport\n",
      "8          27  entertainment\n",
      "9         397          sport\n",
      "10       1644           tech\n",
      "11        263          sport\n",
      "12        765  entertainment\n",
      "13       2134  entertainment\n",
      "14        297       politics\n"
     ]
    },
    {
     "name": "stderr",
     "output_type": "stream",
     "text": [
      "C:\\Users\\Michael Christensen\\AppData\\Local\\Temp\\ipykernel_5644\\47374579.py:7: FutureWarning: In a future version of pandas all arguments of DataFrame.drop except for the argument 'labels' will be keyword-only.\n",
      "  test_pred = test_pred.drop('ypred',1)\n"
     ]
    }
   ],
   "source": [
    "label_dict = {0:'business', 3:'tech', 2:'politics', 4:'sport', 1:'entertainment'}\n",
    "\n",
    "test_pred = pd.DataFrame(columns=['ArticleId', 'Category'])\n",
    "test_pred['ArticleId'] = df_test['ArticleId']\n",
    "test_pred['ypred'] = label_test\n",
    "test_pred['Category'] = test_pred['ypred'].apply(lambda i: label_dict[i])\n",
    "test_pred = test_pred.drop('ypred',1)\n",
    "print(test_pred.head(15))\n",
    "\n",
    "test_pred.to_csv('submission.csv', index = False)"
   ]
  },
  {
   "cell_type": "markdown",
   "id": "6196605c",
   "metadata": {},
   "source": [
    "The test submission only had an accuracy of 17.6% despite having a fairly high training accuracy - we will have to revisit this."
   ]
  },
  {
   "cell_type": "markdown",
   "id": "847b929e",
   "metadata": {},
   "source": [
    "# 4. Comparison with Supervised Learning (RF)\n",
    "<a name=\"paragraph3\"></a>\n",
    "\n",
    "Let's try comparing our NMF with a Random Forest classifier. We'll use the same vectorizer we used in NMF."
   ]
  },
  {
   "cell_type": "code",
   "execution_count": 30,
   "id": "c4c5ea88",
   "metadata": {},
   "outputs": [],
   "source": [
    "data_X = np.array(df_train['Text'])\n",
    "data_y = np.array(df_train['Category'])\n",
    "data_test = np.array(df_test['Text'].values.astype('U'))\n",
    "\n",
    "#Train Test Split\n",
    "X_train, X_test, y_train, y_test = train_test_split(data_X, data_y, test_size = 0.1, random_state = 0)"
   ]
  },
  {
   "cell_type": "code",
   "execution_count": 31,
   "id": "c4b9316a",
   "metadata": {},
   "outputs": [],
   "source": [
    "#Vectorize X\n",
    "vect = TfidfVectorizer(ngram_range = (1,1), \n",
    "                       sublinear_tf = True, \n",
    "                       min_df = 1, \n",
    "                       norm = 'l1',\n",
    "                       encoding = 'latin-1',\n",
    "                       stop_words = 'english')      \n",
    "\n",
    "vect_fit = vect.fit(X_train)\n",
    "\n",
    "X_train_v = pd.DataFrame(vect_fit.transform(X_train).toarray())\n",
    "X_test_v = pd.DataFrame(vect_fit.transform(X_test).toarray())\n",
    "X_test_train_v = pd.DataFrame(vect_fit.transform(data_test).toarray())"
   ]
  },
  {
   "cell_type": "code",
   "execution_count": 32,
   "id": "35a0b197",
   "metadata": {},
   "outputs": [
    {
     "name": "stdout",
     "output_type": "stream",
     "text": [
      "Accuracy: 0.938\n",
      "[[31  0  0  0  0]\n",
      " [ 2 24  0  1  0]\n",
      " [ 2  0 25  2  0]\n",
      " [ 0  0  0 34  0]\n",
      " [ 1  1  0  0 21]]\n"
     ]
    }
   ],
   "source": [
    "rf = RandomForestClassifier(n_estimators = 50, random_state = 0).fit(X_train_v, y_train)\n",
    "\n",
    "y_pred = rf.predict(X_test_v)\n",
    "\n",
    "print(\"Accuracy:\", round(accuracy_score(y_pred, y_test),3))\n",
    "\n",
    "cm = confusion_matrix(y_test, y_pred)\n",
    "print(cm)"
   ]
  },
  {
   "cell_type": "code",
   "execution_count": 33,
   "id": "54757273",
   "metadata": {},
   "outputs": [
    {
     "name": "stdout",
     "output_type": "stream",
     "text": [
      "    ArticleId       Category\n",
      "0        1018       business\n",
      "1        1319       business\n",
      "2        1138       business\n",
      "3         459           tech\n",
      "4        1020       business\n",
      "5          51          sport\n",
      "6        2025          sport\n",
      "7        1479  entertainment\n",
      "8          27       business\n",
      "9         397  entertainment\n",
      "10       1644       politics\n",
      "11        263  entertainment\n",
      "12        765       business\n",
      "13       2134       business\n",
      "14        297          sport\n"
     ]
    }
   ],
   "source": [
    "rf_pred = pd.DataFrame(columns=['ArticleId', 'Category'])\n",
    "rf_pred['ArticleId'] = df_test['ArticleId']\n",
    "rf_pred['Category'] = rf.predict(X_test_train_v)\n",
    "print(rf_pred.head(15))\n",
    "\n",
    "test_pred.to_csv('submission_rf.csv', index = False)"
   ]
  },
  {
   "cell_type": "markdown",
   "id": "9fbc2f98",
   "metadata": {},
   "source": [
    "Again we have a fairly low (~18%) accuracy on the provided test data in spite of being fairly accurate on for the training data that we split. This may be due to model overfitting. The random forest classifier seems to have a significantly faster runtime for similar results and can achieve reasonable accuracy even with a small training set."
   ]
  },
  {
   "cell_type": "markdown",
   "id": "56264139",
   "metadata": {},
   "source": [
    "## References: <a name=\"references\"></a>\n",
    "https://cloud.google.com/blog/products/ai-machine-learning/problem-solving-with-ml-automatic-document-classification\n",
    "\n",
    "https://towardsdatascience.com/nlp-in-python-data-cleaning-6313a404a470\n",
    "\n",
    "https://neptune.ai/blog/vectorization-techniques-in-nlp-guide\n",
    "\n",
    "https://neptune.ai/blog/exploratory-data-analysis-natural-language-processing-tools\n",
    "\n",
    "https://www.kaggle.com/code/sainathkrothapalli/beginners-approach-to-nlp-problems\n",
    "\n",
    "https://www.kaggle.com/code/sainathkrothapalli/nlp-visualisation-guide\n",
    "\n",
    "https://www.analyticsvidhya.com/blog/2021/06/part-15-step-by-step-guide-to-master-nlp-topic-modelling-using-nmf/\n",
    "\n",
    "https://www.kaggle.com/code/mattison/unsupervised-matrix-factorization#%F0%9F%87%AC%F0%9F%87%A7-BBC-NEWS-CLASSIFICATION-PROJECT\n",
    "\n",
    "https://www.kaggle.com/code/sauravmaheshkar/fake-news-classification-using-random-forest"
   ]
  },
  {
   "cell_type": "code",
   "execution_count": null,
   "id": "3e9cae44",
   "metadata": {},
   "outputs": [],
   "source": []
  },
  {
   "cell_type": "code",
   "execution_count": null,
   "id": "bdc3aaf0",
   "metadata": {},
   "outputs": [],
   "source": []
  }
 ],
 "metadata": {
  "kernelspec": {
   "display_name": "Python 3 (ipykernel)",
   "language": "python",
   "name": "python3"
  },
  "language_info": {
   "codemirror_mode": {
    "name": "ipython",
    "version": 3
   },
   "file_extension": ".py",
   "mimetype": "text/x-python",
   "name": "python",
   "nbconvert_exporter": "python",
   "pygments_lexer": "ipython3",
   "version": "3.11.4"
  }
 },
 "nbformat": 4,
 "nbformat_minor": 5
}
